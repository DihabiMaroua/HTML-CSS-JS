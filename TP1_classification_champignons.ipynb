{
  "cells": [
    {
      "cell_type": "markdown",
      "metadata": {
        "id": "G1wGYQyFJM_y"
      },
      "source": [
        "## Machine Learning TP1 : Reconnaissance de Champignon"
      ]
    },
    {
      "cell_type": "markdown",
      "metadata": {
        "id": "pKwPZMCRJM_1"
      },
      "source": [
        "### Import des librairies"
      ]
    },
    {
      "cell_type": "code",
      "execution_count": null,
      "metadata": {
        "id": "mc0PCKlEJM_1"
      },
      "outputs": [],
      "source": [
        "import pandas as pd\n",
        "import numpy as np\n",
        "import os\n",
        "from IPython.display import Image, display\n",
        "\n",
        "from sklearn import preprocessing\n",
        "\n",
        "from sklearn.metrics import accuracy_score\n",
        "from sklearn import tree\n",
        "from sklearn import ensemble\n",
        "from sklearn.tree import export_graphviz\n",
        "# pd.set_option('display.max_rows', None) # Afficher toutes les lignes des dataframes\n",
        "# pd.set_option('display.max_columns', None) # Afficher toutes les lignes des dataframes"
      ]
    },
    {
      "cell_type": "markdown",
      "metadata": {
        "id": "VHCGi2p3JM_3"
      },
      "source": [
        "### 1. Preparation des données"
      ]
    },
    {
      "cell_type": "markdown",
      "metadata": {
        "id": "283gJNekJM_3"
      },
      "source": [
        "1.1 importer et afficher les données dans un DataFrame.\n",
        "\n",
        "Afficher le nombre de champignons toxiques ou non.\n",
        "\n",
        "Vérifier qu'il n'y as pas de valeurs nulles"
      ]
    },
    {
      "cell_type": "code",
      "execution_count": null,
      "metadata": {
        "id": "ZMiNwkptJM_4"
      },
      "outputs": [],
      "source": []
    },
    {
      "cell_type": "markdown",
      "metadata": {
        "id": "cffkQfi2JM_4"
      },
      "source": [
        "1.2 Encoder les données avec une colonne 1/0 par valeur possible.Eviter de générer une matrice \"sparse\"\\\n",
        "Afficher la taille des données (lignes x colonnes) et les noms de colonnes générées.\\\n",
        "https://scikit-learn.org/stable/modules/generated/sklearn.preprocessing.OneHotEncoder.html#sklearn.preprocessing.OneHotEncoder"
      ]
    },
    {
      "cell_type": "code",
      "execution_count": null,
      "metadata": {
        "id": "3zHhegJVJM_4"
      },
      "outputs": [],
      "source": []
    },
    {
      "cell_type": "markdown",
      "metadata": {
        "id": "Ygbh2rixJM_5"
      },
      "source": [
        "1.3 Créer un nouveau DataFrame avec les données et les noms de colonne (méthode get_feature_names_out() de OneHotEncoder). Mélanger les données. Afficher le résultat."
      ]
    },
    {
      "cell_type": "code",
      "execution_count": null,
      "metadata": {
        "id": "jDwYWWO4JM_5"
      },
      "outputs": [],
      "source": []
    },
    {
      "cell_type": "markdown",
      "metadata": {
        "id": "mWpxgj1kJM_5"
      },
      "source": [
        "1.4 Creer 4 jeux de données : train features et labels (70%) et dev features et labels (30%).\\\n",
        "Utiliser toxicite_toxique comme label. Ne pas garder de label (toxicite_toxique et toxicite_comestible) dans les features !"
      ]
    },
    {
      "cell_type": "code",
      "execution_count": null,
      "metadata": {
        "id": "rgsaONdXJM_5"
      },
      "outputs": [],
      "source": []
    },
    {
      "cell_type": "markdown",
      "metadata": {
        "id": "T0N2Cbv-JM_5"
      },
      "source": [
        "## 2. Arbre de décision"
      ]
    },
    {
      "cell_type": "markdown",
      "metadata": {
        "id": "I4AjWJgAJM_5"
      },
      "source": [
        "2.1 Entrainer un arbre de décision sur les données d'apprentissage. Afficher l'arbre obtenu en utilisant plot_tree."
      ]
    },
    {
      "cell_type": "code",
      "execution_count": null,
      "metadata": {
        "id": "Yth-0IqHJM_6"
      },
      "outputs": [],
      "source": [
        "import matplotlib.pyplot as plt"
      ]
    },
    {
      "cell_type": "markdown",
      "metadata": {
        "id": "y76zruZzJM_6"
      },
      "source": [
        "2.2 Afficher l'arbre obtenu en utilisant graphwiz"
      ]
    },
    {
      "cell_type": "code",
      "execution_count": null,
      "metadata": {
        "id": "T0vqbQemJM_6"
      },
      "outputs": [],
      "source": []
    },
    {
      "cell_type": "markdown",
      "metadata": {
        "id": "_yg-tpFmJM_6"
      },
      "source": [
        "2.3 Mesurer la précision du modèle sur les données de dev"
      ]
    },
    {
      "cell_type": "code",
      "execution_count": null,
      "metadata": {
        "id": "NHYnJ_DaJM_6"
      },
      "outputs": [],
      "source": []
    },
    {
      "cell_type": "markdown",
      "metadata": {
        "id": "UDJqVZlbJM_6"
      },
      "source": [
        "## 3. Modèle de forêt"
      ]
    },
    {
      "cell_type": "markdown",
      "metadata": {
        "id": "enQQUKsOJM_6"
      },
      "source": [
        "3.1 Réalisez un algorithme de Random Forest sur les données. Utiliser 500 arbres et une profondeur de 6."
      ]
    },
    {
      "cell_type": "code",
      "execution_count": null,
      "metadata": {
        "id": "5pS4jxGhJM_6"
      },
      "outputs": [],
      "source": []
    },
    {
      "cell_type": "markdown",
      "metadata": {
        "id": "q_OADS-5JM_6"
      },
      "source": [
        "3.2 Afficher trois arbres au hasard."
      ]
    },
    {
      "cell_type": "code",
      "execution_count": null,
      "metadata": {
        "id": "ikz7OwV-JM_7"
      },
      "outputs": [],
      "source": [
        "from random import randint\n"
      ]
    },
    {
      "cell_type": "markdown",
      "metadata": {
        "id": "h01AM3R0JM_7"
      },
      "source": [
        "3.3 Mesurer la précision du modèle Random Forest sur les données de dev"
      ]
    },
    {
      "cell_type": "code",
      "execution_count": null,
      "metadata": {
        "id": "FjSB7xOZJM_7"
      },
      "outputs": [],
      "source": []
    },
    {
      "cell_type": "markdown",
      "metadata": {
        "id": "zeGT_ebCJM_7"
      },
      "source": [
        "## 4. optimisation des paramètres"
      ]
    },
    {
      "cell_type": "markdown",
      "metadata": {
        "id": "OeBsQEcDJM_7"
      },
      "source": [
        "4.1 En utilisant GridSearchCV, chercher la meilleure combinaison de  max_depth et n_estimator."
      ]
    },
    {
      "cell_type": "code",
      "execution_count": null,
      "metadata": {
        "id": "jfwj0zB_JM_7"
      },
      "outputs": [],
      "source": [
        "from sklearn.model_selection import GridSearchCV\n"
      ]
    },
    {
      "cell_type": "markdown",
      "metadata": {
        "id": "e4haN6BvJM_7"
      },
      "source": [
        "4.2 Afficher les paramètres optimaux et la précisions obtenue sur les données dev"
      ]
    },
    {
      "cell_type": "code",
      "execution_count": null,
      "metadata": {
        "id": "6pz2N-AxJM_7"
      },
      "outputs": [],
      "source": []
    },
    {
      "cell_type": "markdown",
      "metadata": {
        "id": "0P_vAsrFJM_7"
      },
      "source": [
        "4.3 Classer et Afficher les caractéristiques d'importance supérieure à 1%"
      ]
    },
    {
      "cell_type": "code",
      "execution_count": null,
      "metadata": {
        "id": "fe39dEb7JM_7"
      },
      "outputs": [],
      "source": []
    },
    {
      "cell_type": "markdown",
      "metadata": {
        "id": "Xuyg7lfvJM_7"
      },
      "source": [
        "## 5. Stacking\n",
        "\n",
        "Essayer différents modèles d'estimateur final"
      ]
    },
    {
      "cell_type": "code",
      "execution_count": null,
      "metadata": {
        "id": "6WpKeKzrJM_7"
      },
      "outputs": [],
      "source": [
        "from sklearn.pipeline import make_pipeline\n",
        "from sklearn.preprocessing import StandardScaler\n",
        "from sklearn.svm import SVC\n",
        "from sklearn.linear_model import LogisticRegression\n",
        "from sklearn.naive_bayes import GaussianNB\n",
        "from sklearn.linear_model import Perceptron\n",
        "from sklearn.ensemble import StackingClassifier\n"
      ]
    },
    {
      "cell_type": "markdown",
      "metadata": {
        "id": "V2-pj_vwJM_8"
      },
      "source": [
        "## 6. Gradient Boosting (Optionnel avec fin cours 2 à réaliser en FOAD)"
      ]
    },
    {
      "cell_type": "markdown",
      "metadata": {
        "id": "zxjDVX0wJM_8"
      },
      "source": [
        "6. Exécuter un apprentissage de Gradient Boosting avec et sans \"Early Stopping\" sur le nombre d'estimateurs. Comparer avec le résultat sur les données dev."
      ]
    },
    {
      "cell_type": "code",
      "execution_count": null,
      "metadata": {
        "id": "dTw5Puh9JM_8"
      },
      "outputs": [],
      "source": []
    },
    {
      "cell_type": "markdown",
      "metadata": {
        "id": "j_ZrHaP1JM_8"
      },
      "source": [
        "## 7. (Optionnel) Recommencer les exercices précédents en utilisant les \"ordinal encoders\". Que remarquez-vous ?"
      ]
    }
  ],
  "metadata": {
    "kernelspec": {
      "display_name": "Python 3",
      "language": "python",
      "name": "python3"
    },
    "language_info": {
      "codemirror_mode": {
        "name": "ipython",
        "version": 3
      },
      "file_extension": ".py",
      "mimetype": "text/x-python",
      "name": "python",
      "nbconvert_exporter": "python",
      "pygments_lexer": "ipython3",
      "version": "3.12.4"
    },
    "orig_nbformat": 4,
    "colab": {
      "provenance": []
    }
  },
  "nbformat": 4,
  "nbformat_minor": 0
}